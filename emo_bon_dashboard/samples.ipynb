{
 "cells": [
  {
   "cell_type": "markdown",
   "metadata": {},
   "source": [
    "# Samples\n",
    "\n",
    "This notebook queries and visualizes information about samples collected at EMO-BON observatories."
   ]
  },
  {
   "cell_type": "code",
   "execution_count": null,
   "metadata": {},
   "outputs": [],
   "source": [
    "from pysema import SPARQLConnection\n",
    "import plotly.express as px\n",
    "import plotly.graph_objects as go\n",
    "import pandas as pd\n",
    "from datetime import datetime"
   ]
  },
  {
   "cell_type": "code",
   "execution_count": null,
   "metadata": {},
   "outputs": [],
   "source": [
    "# Connect to EMO-BON Knowledge Graph\n",
    "graphdb_url = \"https://emobon-kb.vliz.be/repositories/kgap\"\n",
    "conn = SPARQLConnection(graphdb_url)"
   ]
  },
  {
   "cell_type": "markdown",
   "metadata": {},
   "source": [
    "## Total Sample Count\n",
    "\n",
    "Get the total number of samples in the knowledge graph."
   ]
  },
  {
   "cell_type": "code",
   "execution_count": null,
   "metadata": {},
   "outputs": [],
   "source": [
    "query_count = \"\"\"\n",
    "PREFIX sosa: <http://www.w3.org/ns/sosa/>\n",
    "PREFIX emobon: <http://www.embrc.eu/emobon/EmobonOntology#>\n",
    "\n",
    "SELECT (COUNT(?sample) as ?total_samples)\n",
    "WHERE {\n",
    "  ?sample a sosa:Sample .\n",
    "}\n",
    "\"\"\"\n",
    "\n",
    "count_df = conn.query(query_count)\n",
    "if not count_df.empty:\n",
    "    total = count_df.iloc[0]['total_samples']\n",
    "    print(f\"Total samples in the knowledge graph: {total}\")\n",
    "else:\n",
    "    print(\"Unable to retrieve sample count\")"
   ]
  },
  {
   "cell_type": "markdown",
   "metadata": {},
   "source": [
    "## Samples by Observatory\n",
    "\n",
    "Count samples collected at each observatory."
   ]
  },
  {
   "cell_type": "code",
   "execution_count": null,
   "metadata": {},
   "outputs": [],
   "source": [
    "query_by_observatory = \"\"\"\n",
    "PREFIX sosa: <http://www.w3.org/ns/sosa/>\n",
    "PREFIX emobon: <http://www.embrc.eu/emobon/EmobonOntology#>\n",
    "PREFIX schema: <http://schema.org/>\n",
    "\n",
    "SELECT ?observatory_name (COUNT(?sample) as ?sample_count)\n",
    "WHERE {\n",
    "  ?sample a sosa:Sample .\n",
    "  ?sample sosa:isSampleOf ?feature .\n",
    "  ?observatory sosa:hasSamplingFeature ?feature .\n",
    "  OPTIONAL { ?observatory schema:name ?observatory_name . }\n",
    "}\n",
    "GROUP BY ?observatory_name\n",
    "ORDER BY DESC(?sample_count)\n",
    "LIMIT 20\n",
    "\"\"\"\n",
    "\n",
    "obs_samples_df = conn.query(query_by_observatory)\n",
    "\n",
    "if not obs_samples_df.empty:\n",
    "    fig = px.bar(obs_samples_df, x='observatory_name', y='sample_count',\n",
    "                 title='Top 20 Observatories by Number of Samples',\n",
    "                 labels={'observatory_name': 'Observatory', 'sample_count': 'Number of Samples'},\n",
    "                 template='plotly_white')\n",
    "    fig.update_traces(marker_color='#2ca02c')\n",
    "    fig.update_xaxes(tickangle=45)\n",
    "    fig.show()\n",
    "else:\n",
    "    print(\"No sample data by observatory available\")"
   ]
  },
  {
   "cell_type": "markdown",
   "metadata": {},
   "source": [
    "## Sampling Events Over Time\n",
    "\n",
    "Visualize when sampling events occurred."
   ]
  },
  {
   "cell_type": "code",
   "execution_count": null,
   "metadata": {},
   "outputs": [],
   "source": [
    "query_timeline = \"\"\"\n",
    "PREFIX sosa: <http://www.w3.org/ns/sosa/>\n",
    "PREFIX emobon: <http://www.embrc.eu/emobon/EmobonOntology#>\n",
    "PREFIX schema: <http://schema.org/>\n",
    "PREFIX prov: <http://www.w3.org/ns/prov#>\n",
    "\n",
    "SELECT ?date (COUNT(?sample) as ?sample_count)\n",
    "WHERE {\n",
    "  ?sample a sosa:Sample .\n",
    "  ?sampling sosa:hasResult ?sample .\n",
    "  ?sampling sosa:resultTime ?date .\n",
    "}\n",
    "GROUP BY ?date\n",
    "ORDER BY ?date\n",
    "\"\"\"\n",
    "\n",
    "timeline_df = conn.query(query_timeline)\n",
    "\n",
    "if not timeline_df.empty and 'date' in timeline_df.columns:\n",
    "    fig = px.line(timeline_df, x='date', y='sample_count',\n",
    "                  title='Sampling Events Over Time',\n",
    "                  labels={'date': 'Date', 'sample_count': 'Number of Samples'},\n",
    "                  template='plotly_white')\n",
    "    fig.update_traces(line_color='#ff7f0e')\n",
    "    fig.show()\n",
    "else:\n",
    "    print(\"No temporal data available\")"
   ]
  },
  {
   "cell_type": "markdown",
   "metadata": {},
   "source": [
    "## Sample Types\n",
    "\n",
    "Distribution of different sample types."
   ]
  },
  {
   "cell_type": "code",
   "execution_count": null,
   "metadata": {},
   "outputs": [],
   "source": [
    "query_types = \"\"\"\n",
    "PREFIX sosa: <http://www.w3.org/ns/sosa/>\n",
    "PREFIX emobon: <http://www.embrc.eu/emobon/EmobonOntology#>\n",
    "PREFIX rdf: <http://www.w3.org/1999/02/22-rdf-syntax-ns#>\n",
    "\n",
    "SELECT ?type (COUNT(?sample) as ?count)\n",
    "WHERE {\n",
    "  ?sample a ?type .\n",
    "  FILTER(?type != sosa:Sample)\n",
    "}\n",
    "GROUP BY ?type\n",
    "ORDER BY DESC(?count)\n",
    "LIMIT 10\n",
    "\"\"\"\n",
    "\n",
    "types_df = conn.query(query_types)\n",
    "\n",
    "if not types_df.empty:\n",
    "    fig = px.pie(types_df, values='count', names='type',\n",
    "                 title='Sample Type Distribution',\n",
    "                 template='plotly_white')\n",
    "    fig.show()\n",
    "else:\n",
    "    print(\"No sample type data available\")"
   ]
  },
  {
   "cell_type": "markdown",
   "metadata": {},
   "source": [
    "## Sample Details\n",
    "\n",
    "View detailed information about individual samples."
   ]
  },
  {
   "cell_type": "code",
   "execution_count": null,
   "metadata": {},
   "outputs": [],
   "source": [
    "query_details = \"\"\"\n",
    "PREFIX sosa: <http://www.w3.org/ns/sosa/>\n",
    "PREFIX emobon: <http://www.embrc.eu/emobon/EmobonOntology#>\n",
    "PREFIX schema: <http://schema.org/>\n",
    "PREFIX rdfs: <http://www.w3.org/2000/01/rdf-schema#>\n",
    "\n",
    "SELECT DISTINCT ?sample ?label ?description\n",
    "WHERE {\n",
    "  ?sample a sosa:Sample .\n",
    "  OPTIONAL { ?sample rdfs:label ?label . }\n",
    "  OPTIONAL { ?sample schema:description ?description . }\n",
    "}\n",
    "LIMIT 50\n",
    "\"\"\"\n",
    "\n",
    "details_df = conn.query(query_details)\n",
    "details_df.head(20)"
   ]
  }
 ],
 "metadata": {
  "kernelspec": {
   "display_name": "Python 3",
   "language": "python",
   "name": "python3"
  },
  "language_info": {
   "codemirror_mode": {
    "name": "ipython",
    "version": 3
   },
   "file_extension": ".py",
   "mimetype": "text/x-python",
   "name": "python",
   "nbconvert_exporter": "python",
   "pygments_lexer": "ipython3",
   "version": "3.8.0"
  }
 },
 "nbformat": 4,
 "nbformat_minor": 4
}
