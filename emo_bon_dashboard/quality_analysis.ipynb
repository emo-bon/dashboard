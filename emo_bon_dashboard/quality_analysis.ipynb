{
 "cells": [
  {
   "cell_type": "markdown",
   "metadata": {},
   "source": [
    "# Quality Analysis\n",
    "\n",
    "This notebook performs quality assessment and validation checks on the EMO-BON knowledge graph data."
   ]
  },
  {
   "cell_type": "code",
   "execution_count": 2,
   "metadata": {},
   "outputs": [],
   "source": [
    "from sema.query import DefaultSparqlBuilder, GraphSource as KGSource, QueryResult\n",
    "import plotly.express as px\n",
    "import plotly.graph_objects as go\n",
    "import pandas as pd\n",
    "from pandas import DataFrame"
   ]
  },
  {
   "cell_type": "code",
   "execution_count": 3,
   "metadata": {},
   "outputs": [],
   "source": [
    "# Connect to EMO-BON Knowledge Graph\n",
    "graphdb_url = \"http://localhost:7200/repositories/kgap\"\n",
    "# print(f\"{GDB_ENDPOINT=}\")\n",
    "GDB: KGSource = KGSource.build(graphdb_url)"
   ]
  },
  {
   "cell_type": "markdown",
   "metadata": {},
   "source": [
    "## Missing Mandatory Properties\n",
    "\n",
    "Check for observatories missing mandatory properties like name or location."
   ]
  },
  {
   "cell_type": "code",
   "execution_count": 5,
   "metadata": {},
   "outputs": [
    {
     "name": "stdout",
     "output_type": "stream",
     "text": [
      "Result: missing_names_df=<sema.query.query.SPARQLQueryResult object at 0x000001A6B3673A10>\n",
      "Observatories missing names: 0\n"
     ]
    }
   ],
   "source": [
    "query_missing_names = \"\"\"\n",
    "PREFIX sosa: <http://www.w3.org/ns/sosa/>\n",
    "PREFIX emobon: <http://www.embrc.eu/emobon/EmobonOntology#>\n",
    "PREFIX schema: <http://schema.org/>\n",
    "\n",
    "SELECT ?observatory\n",
    "WHERE {\n",
    "  ?observatory a emobon:Observatory .\n",
    "  FILTER NOT EXISTS { ?observatory schema:name ?name . }\n",
    "}\n",
    "\"\"\"\n",
    "\n",
    "missing_names_df: QueryResult = GDB.query(sparql=query_missing_names)\n",
    "print(f\"Result: {missing_names_df=}\")\n",
    "missing_names_df: DataFrame = missing_names_df.to_dataframe()\n",
    "missing_names_df.head(10)\n",
    "print(f\"Observatories missing names: {len(missing_names_df)}\")\n",
    "if not missing_names_df.empty:\n",
    "    missing_names_df.head(10)"
   ]
  },
  {
   "cell_type": "markdown",
   "metadata": {},
   "source": [
    "## Orphaned Samples\n",
    "\n",
    "Find samples that are not linked to any observatory or sampling event."
   ]
  },
  {
   "cell_type": "code",
   "execution_count": 10,
   "metadata": {},
   "outputs": [
    {
     "name": "stdout",
     "output_type": "stream",
     "text": [
      "Result: orphaned=<sema.query.query.SPARQLQueryResult object at 0x000001A6B35D93D0>\n",
      "Orphaned samples (not linked to sampling features): 2105\n",
      "Result: orphaned_reverse=<sema.query.query.SPARQLQueryResult object at 0x000001A6B38C7D10>\n",
      "Samples linked to sampling features: 2178\n"
     ]
    }
   ],
   "source": [
    "query_orphaned_samples = \"\"\"\n",
    "PREFIX sosa: <http://www.w3.org/ns/sosa/>\n",
    "PREFIX sampling: <https://data.emobon.embrc.eu/ns/sampling#>\n",
    "\n",
    "SELECT ?sample\n",
    "WHERE {\n",
    "  ?sample a sosa:Sample .\n",
    "  #?sample sosa:isResultOf ?SamplingActivity .\n",
    "  #?SamplingActivity sampling:linkedToObservatory ?observatory .\n",
    "  FILTER NOT EXISTS { ?sample sosa:isResultOf/sampling:linkedToObservatory ?observatory . }\n",
    "}\n",
    "\"\"\"\n",
    "\n",
    "orphaned = GDB.query(sparql=query_orphaned_samples)\n",
    "print(f\"Result: {orphaned=}\")\n",
    "orphaned_df: DataFrame = orphaned.to_dataframe()\n",
    "orphaned_df.head(10)\n",
    "print(f\"Orphaned samples (not linked to sampling features): {len(orphaned_df)}\")\n",
    "if not orphaned_df.empty:\n",
    "    orphaned_df.head(10)\n",
    "    \n",
    "query_orphaned_samples_reverse = \"\"\"\n",
    "PREFIX sosa: <http://www.w3.org/ns/sosa/>\n",
    "PREFIX sampling: <https://data.emobon.embrc.eu/ns/sampling#>\n",
    "\n",
    "SELECT ?sample\n",
    "WHERE {\n",
    "  ?sample a sosa:Sample .\n",
    "  #?sample sosa:isResultOf ?SamplingActivity .\n",
    "  #?SamplingActivity sampling:linkedToObservatory ?observatory .\n",
    "  FILTER EXISTS { ?sample sosa:isResultOf/sampling:linkedToObservatory ?observatory . }\n",
    "}\n",
    "\"\"\"\n",
    "\n",
    "orphaned_reverse = GDB.query(sparql=query_orphaned_samples_reverse)\n",
    "print(f\"Result: {orphaned_reverse=}\")\n",
    "orphaned_reverse_df: DataFrame = orphaned_reverse.to_dataframe()\n",
    "orphaned_reverse_df.head(10)\n",
    "print(f\"Samples linked to sampling features: {len(orphaned_reverse_df)}\")\n",
    "if not orphaned_reverse_df.empty:\n",
    "    orphaned_reverse_df.head(10)"
   ]
  },
  {
   "cell_type": "markdown",
   "metadata": {},
   "source": [
    "## Duplicate Detection\n",
    "\n",
    "Check for potential duplicate observatories based on same name and location."
   ]
  },
  {
   "cell_type": "code",
   "execution_count": null,
   "metadata": {},
   "outputs": [],
   "source": [
    "query_duplicates = \"\"\"\n",
    "PREFIX sosa: <http://www.w3.org/ns/sosa/>\n",
    "PREFIX emobon: <http://www.embrc.eu/emobon/EmobonOntology#>\n",
    "PREFIX schema: <http://schema.org/>\n",
    "\n",
    "SELECT ?name ?location (COUNT(?observatory) as ?count)\n",
    "WHERE {\n",
    "  ?observatory a emobon:Observatory .\n",
    "  ?observatory schema:name ?name .\n",
    "  ?observatory schema:location ?location .\n",
    "}\n",
    "GROUP BY ?name ?location\n",
    "HAVING (COUNT(?observatory) > 1)\n",
    "ORDER BY DESC(?count)\n",
    "\"\"\"\n",
    "\n",
    "duplicates_df = conn.query(query_duplicates)\n",
    "print(f\"Potential duplicate observatory groups: {len(duplicates_df)}\")\n",
    "if not duplicates_df.empty:\n",
    "    duplicates_df"
   ]
  },
  {
   "cell_type": "markdown",
   "metadata": {},
   "source": [
    "## Data Completeness Score\n",
    "\n",
    "Calculate completeness percentage for key observatory properties."
   ]
  },
  {
   "cell_type": "code",
   "execution_count": null,
   "metadata": {},
   "outputs": [],
   "source": [
    "query_completeness = \"\"\"\n",
    "PREFIX sosa: <http://www.w3.org/ns/sosa/>\n",
    "PREFIX emobon: <http://www.embrc.eu/emobon/EmobonOntology#>\n",
    "PREFIX schema: <http://schema.org/>\n",
    "\n",
    "SELECT \n",
    "  (COUNT(DISTINCT ?observatory) as ?total)\n",
    "  (COUNT(DISTINCT ?name_obs) as ?with_name)\n",
    "  (COUNT(DISTINCT ?loc_obs) as ?with_location)\n",
    "  (COUNT(DISTINCT ?desc_obs) as ?with_description)\n",
    "  (COUNT(DISTINCT ?country_obs) as ?with_country)\n",
    "WHERE {\n",
    "  ?observatory a emobon:Observatory .\n",
    "  OPTIONAL { ?name_obs a emobon:Observatory ; schema:name ?name . }\n",
    "  OPTIONAL { ?loc_obs a emobon:Observatory ; schema:location ?loc . }\n",
    "  OPTIONAL { ?desc_obs a emobon:Observatory ; schema:description ?desc . }\n",
    "  OPTIONAL { ?country_obs a emobon:Observatory ; schema:addressCountry ?country . }\n",
    "}\n",
    "\"\"\"\n",
    "\n",
    "completeness_df = conn.query(query_completeness)\n",
    "\n",
    "if not completeness_df.empty:\n",
    "    total = completeness_df.iloc[0]['total']\n",
    "    if total > 0:\n",
    "        metrics = {\n",
    "            'Property': ['Name', 'Location', 'Description', 'Country'],\n",
    "            'Completeness (%)': [\n",
    "                (completeness_df.iloc[0]['with_name'] / total) * 100,\n",
    "                (completeness_df.iloc[0]['with_location'] / total) * 100,\n",
    "                (completeness_df.iloc[0]['with_description'] / total) * 100,\n",
    "                (completeness_df.iloc[0]['with_country'] / total) * 100\n",
    "            ]\n",
    "        }\n",
    "        \n",
    "        metrics_df = pd.DataFrame(metrics)\n",
    "        \n",
    "        fig = px.bar(metrics_df, x='Property', y='Completeness (%)',\n",
    "                     title='Data Completeness for Observatory Properties',\n",
    "                     template='plotly_white',\n",
    "                     color='Completeness (%)',\n",
    "                     color_continuous_scale='RdYlGn',\n",
    "                     range_color=[0, 100])\n",
    "        fig.update_layout(showlegend=False)\n",
    "        fig.show()\n",
    "        \n",
    "        print(\"\\nCompleteness Summary:\")\n",
    "        print(metrics_df.to_string(index=False))\n",
    "    else:\n",
    "        print(\"No observatories found\")\n",
    "else:\n",
    "    print(\"Unable to calculate completeness\")"
   ]
  },
  {
   "cell_type": "markdown",
   "metadata": {},
   "source": [
    "## Temporal Data Quality\n",
    "\n",
    "Check for samples with missing or invalid timestamps."
   ]
  },
  {
   "cell_type": "code",
   "execution_count": null,
   "metadata": {},
   "outputs": [],
   "source": [
    "query_missing_dates = \"\"\"\n",
    "PREFIX sosa: <http://www.w3.org/ns/sosa/>\n",
    "PREFIX emobon: <http://www.embrc.eu/emobon/EmobonOntology#>\n",
    "\n",
    "SELECT (COUNT(?sample) as ?samples_without_date)\n",
    "WHERE {\n",
    "  ?sample a sosa:Sample .\n",
    "  ?sampling sosa:hasResult ?sample .\n",
    "  FILTER NOT EXISTS { ?sampling sosa:resultTime ?date . }\n",
    "}\n",
    "\"\"\"\n",
    "\n",
    "missing_dates_df = conn.query(query_missing_dates)\n",
    "if not missing_dates_df.empty:\n",
    "    count = missing_dates_df.iloc[0]['samples_without_date']\n",
    "    print(f\"Samples without sampling date: {count}\")\n",
    "else:\n",
    "    print(\"No data available for temporal quality check\")"
   ]
  },
  {
   "cell_type": "markdown",
   "metadata": {},
   "source": [
    "## Class Instance Distribution\n",
    "\n",
    "Overview of the number of instances for each major class."
   ]
  },
  {
   "cell_type": "code",
   "execution_count": null,
   "metadata": {},
   "outputs": [],
   "source": [
    "query_class_counts = \"\"\"\n",
    "PREFIX sosa: <http://www.w3.org/ns/sosa/>\n",
    "PREFIX emobon: <http://www.embrc.eu/emobon/EmobonOntology#>\n",
    "PREFIX rdf: <http://www.w3.org/1999/02/22-rdf-syntax-ns#>\n",
    "\n",
    "SELECT ?class (COUNT(?instance) as ?count)\n",
    "WHERE {\n",
    "  ?instance a ?class .\n",
    "  FILTER(?class IN (emobon:Observatory, sosa:Sample, sosa:Sampling, sosa:FeatureOfInterest))\n",
    "}\n",
    "GROUP BY ?class\n",
    "ORDER BY DESC(?count)\n",
    "\"\"\"\n",
    "\n",
    "class_counts_df = conn.query(query_class_counts)\n",
    "\n",
    "if not class_counts_df.empty:\n",
    "    fig = go.Figure(data=[go.Table(\n",
    "        header=dict(values=['Class', 'Instance Count'],\n",
    "                   fill_color='paleturquoise',\n",
    "                   align='left'),\n",
    "        cells=dict(values=[class_counts_df['class'], class_counts_df['count']],\n",
    "                  fill_color='lavender',\n",
    "                  align='left'))\n",
    "    ])\n",
    "    fig.update_layout(title='Instance Counts by Class')\n",
    "    fig.show()\n",
    "else:\n",
    "    print(\"No class count data available\")"
   ]
  },
  {
   "cell_type": "markdown",
   "metadata": {},
   "source": [
    "## Quality Summary\n",
    "\n",
    "Overall quality metrics summary."
   ]
  },
  {
   "cell_type": "code",
   "execution_count": null,
   "metadata": {},
   "outputs": [],
   "source": [
    "print(\"=\" * 50)\n",
    "print(\"QUALITY ANALYSIS SUMMARY\")\n",
    "print(\"=\" * 50)\n",
    "print(\"\\nThis analysis checked the following quality aspects:\")\n",
    "print(\"- Missing mandatory properties (e.g., names, locations)\")\n",
    "print(\"- Orphaned samples (samples not linked to features)\")\n",
    "print(\"- Potential duplicates (same name and location)\")\n",
    "print(\"- Data completeness across key properties\")\n",
    "print(\"- Temporal data quality (missing timestamps)\")\n",
    "print(\"- Distribution of class instances\")\n",
    "print(\"\\nReview the results above to identify areas for improvement.\")"
   ]
  }
 ],
 "metadata": {
  "kernelspec": {
   "display_name": "venv",
   "language": "python",
   "name": "python3"
  },
  "language_info": {
   "codemirror_mode": {
    "name": "ipython",
    "version": 3
   },
   "file_extension": ".py",
   "mimetype": "text/x-python",
   "name": "python",
   "nbconvert_exporter": "python",
   "pygments_lexer": "ipython3",
   "version": "3.12.4"
  }
 },
 "nbformat": 4,
 "nbformat_minor": 4
}
