{
 "cells": [
  {
   "cell_type": "markdown",
   "id": "617b6aa2",
   "metadata": {},
   "source": [
    "# Measurements\n",
    "\n",
    "This section provides an overview of the measurements taken at various observatories within the EMO-BON network. It includes details about the types of measurements, their sources, and associated metadata."
   ]
  }
 ],
 "metadata": {
  "language_info": {
   "name": "python"
  }
 },
 "nbformat": 4,
 "nbformat_minor": 5
}
