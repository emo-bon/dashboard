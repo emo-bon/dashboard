{
 "cells": [
  {
   "cell_type": "markdown",
   "metadata": {},
   "source": [
    "# Observatories\n",
    "\n",
    "This notebook queries and visualizes information about EMO-BON observatories from the knowledge graph."
   ]
  },
  {
   "cell_type": "code",
   "execution_count": null,
   "metadata": {},
   "outputs": [],
   "source": [
    "from pysema import SPARQLConnection\n",
    "import plotly.express as px\n",
    "import plotly.graph_objects as go\n",
    "import pandas as pd"
   ]
  },
  {
   "cell_type": "code",
   "execution_count": null,
   "metadata": {},
   "outputs": [],
   "source": [
    "# Connect to EMO-BON Knowledge Graph\n",
    "graphdb_url = \"https://emobon-kb.vliz.be/repositories/kgap\"\n",
    "conn = SPARQLConnection(graphdb_url)"
   ]
  },
  {
   "cell_type": "markdown",
   "metadata": {},
   "source": [
    "## List All Observatories\n",
    "\n",
    "This query retrieves all observatories in the EMO-BON network."
   ]
  },
  {
   "cell_type": "code",
   "execution_count": null,
   "metadata": {},
   "outputs": [],
   "source": [
    "query_observatories = \"\"\"\n",
    "PREFIX sosa: <http://www.w3.org/ns/sosa/>\n",
    "PREFIX emobon: <http://www.embrc.eu/emobon/EmobonOntology#>\n",
    "PREFIX schema: <http://schema.org/>\n",
    "PREFIX rdfs: <http://www.w3.org/2000/01/rdf-schema#>\n",
    "\n",
    "SELECT DISTINCT ?observatory ?name ?location\n",
    "WHERE {\n",
    "  ?observatory a emobon:Observatory .\n",
    "  OPTIONAL { ?observatory schema:name ?name . }\n",
    "  OPTIONAL { ?observatory schema:location ?location . }\n",
    "}\n",
    "ORDER BY ?name\n",
    "\"\"\"\n",
    "\n",
    "observatories_df = conn.query(query_observatories)\n",
    "print(f\"Found {len(observatories_df)} observatories\")\n",
    "observatories_df.head(10)"
   ]
  },
  {
   "cell_type": "markdown",
   "metadata": {},
   "source": [
    "## Observatories by Country\n",
    "\n",
    "This query groups observatories by their country."
   ]
  },
  {
   "cell_type": "code",
   "execution_count": null,
   "metadata": {},
   "outputs": [],
   "source": [
    "query_by_country = \"\"\"\n",
    "PREFIX sosa: <http://www.w3.org/ns/sosa/>\n",
    "PREFIX emobon: <http://www.embrc.eu/emobon/EmobonOntology#>\n",
    "PREFIX schema: <http://schema.org/>\n",
    "\n",
    "SELECT ?country (COUNT(?observatory) as ?count)\n",
    "WHERE {\n",
    "  ?observatory a emobon:Observatory .\n",
    "  OPTIONAL { ?observatory schema:addressCountry ?country . }\n",
    "}\n",
    "GROUP BY ?country\n",
    "ORDER BY DESC(?count)\n",
    "\"\"\"\n",
    "\n",
    "country_df = conn.query(query_by_country)\n",
    "\n",
    "if not country_df.empty:\n",
    "    fig = px.bar(country_df, x='country', y='count', \n",
    "                 title='Number of Observatories by Country',\n",
    "                 labels={'country': 'Country', 'count': 'Number of Observatories'},\n",
    "                 template='plotly_white')\n",
    "    fig.update_traces(marker_color='#1f77b4')\n",
    "    fig.show()\n",
    "else:\n",
    "    print(\"No country data available\")"
   ]
  },
  {
   "cell_type": "markdown",
   "metadata": {},
   "source": [
    "## Observatory Details\n",
    "\n",
    "Get detailed information about each observatory including sampling features."
   ]
  },
  {
   "cell_type": "code",
   "execution_count": null,
   "metadata": {},
   "outputs": [],
   "source": [
    "query_details = \"\"\"\n",
    "PREFIX sosa: <http://www.w3.org/ns/sosa/>\n",
    "PREFIX emobon: <http://www.embrc.eu/emobon/EmobonOntology#>\n",
    "PREFIX schema: <http://schema.org/>\n",
    "PREFIX rdfs: <http://www.w3.org/2000/01/rdf-schema#>\n",
    "\n",
    "SELECT ?observatory ?name ?description (COUNT(?feature) as ?num_features)\n",
    "WHERE {\n",
    "  ?observatory a emobon:Observatory .\n",
    "  OPTIONAL { ?observatory schema:name ?name . }\n",
    "  OPTIONAL { ?observatory schema:description ?description . }\n",
    "  OPTIONAL { ?observatory sosa:hasSamplingFeature ?feature . }\n",
    "}\n",
    "GROUP BY ?observatory ?name ?description\n",
    "ORDER BY DESC(?num_features)\n",
    "LIMIT 20\n",
    "\"\"\"\n",
    "\n",
    "details_df = conn.query(query_details)\n",
    "details_df.head(10)"
   ]
  }
 ],
 "metadata": {
  "kernelspec": {
   "display_name": "Python 3",
   "language": "python",
   "name": "python3"
  },
  "language_info": {
   "codemirror_mode": {
    "name": "ipython",
    "version": 3
   },
   "file_extension": ".py",
   "mimetype": "text/x-python",
   "name": "python",
   "nbconvert_exporter": "python",
   "pygments_lexer": "ipython3",
   "version": "3.8.0"
  }
 },
 "nbformat": 4,
 "nbformat_minor": 4
}
