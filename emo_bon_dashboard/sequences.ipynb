{
 "cells": [
  {
   "cell_type": "markdown",
   "id": "a292c944",
   "metadata": {},
   "source": [
    "# Sequences\n",
    "\n",
    "This section provides an overview of the DNA sequences collected by various observatories within the EMO-BON network. It includes details about the types of sequences, their sources, and associated metadata."
   ]
  },
  {
   "cell_type": "code",
   "execution_count": null,
   "id": "imports",
   "metadata": {},
   "outputs": [],
   "source": [
    "from conneg_functions import execute_to_df, generate_sparql\n",
    "import plotly.express as px\n",
    "import plotly.graph_objects as go\n",
    "from pandas import DataFrame\n",
    "from IPython.display import display, HTML\n",
    "import pandas as pd"
   ]
  },
  {
   "cell_type": "markdown",
   "id": "partof_info",
   "metadata": {},
   "source": [
    "## Sequence Sources\n",
    "\n",
    "The following shows the different sources where sequences originate from."
   ]
  },
  {
   "cell_type": "code",
   "execution_count": null,
   "id": "fetch_partof",
   "metadata": {},
   "outputs": [],
   "source": [
    "# Fetch sequence sources (partof)\n",
    "df_partof: DataFrame = execute_to_df('sequences_basic.sparql')\n",
    "\n",
    "# Display as a simple list or selector\n",
    "print(f\"Found {len(df_partof)} different sequence sources:\")\n",
    "display(df_partof)"
   ]
  },
  {
   "cell_type": "markdown",
   "id": "taxonomic_summary",
   "metadata": {},
   "source": [
    "## Taxonomic Annotation Summary\n",
    "\n",
    "Summary of taxonomic annotations grouped by rank and source, showing the count of annotations."
   ]
  },
  {
   "cell_type": "code",
   "execution_count": null,
   "id": "fetch_taxonomy_summary",
   "metadata": {},
   "outputs": [],
   "source": [
    "# Fetch taxonomic data summary\n",
    "df_taxonomy_summary: DataFrame = execute_to_df('sequences_species.sparql')\n",
    "\n",
    "table_html = df_taxonomy_summary.to_html(index=False, classes='display', table_id='taxonomy_summary_table')\n",
    "\n",
    "# HTML and JavaScript for DataTables with filtering and download buttons\n",
    "html_code = f\"\"\"\n",
    "<link rel='stylesheet' type='text/css' href='https://cdn.datatables.net/1.11.5/css/jquery.dataTables.min.css'>\n",
    "<link rel='stylesheet' type='text/css' href='https://cdn.datatables.net/buttons/2.2.2/css/buttons.dataTables.min.css'>\n",
    "<script src='https://code.jquery.com/jquery-3.5.1.js'></script>\n",
    "<script src='https://cdn.datatables.net/1.11.5/js/jquery.dataTables.min.js'></script>\n",
    "<script src='https://cdn.datatables.net/buttons/2.2.2/js/dataTables.buttons.min.js'></script>\n",
    "<script src='https://cdnjs.cloudflare.com/ajax/libs/jszip/3.1.3/jszip.min.js'></script>\n",
    "<script src='https://cdn.datatables.net/buttons/2.2.2/js/buttons.html5.min.js'></script>\n",
    "<style>\n",
    "  table.display {{ width: 100%; }}\n",
    "  div.dt-buttons {{ margin-bottom: 10px; }}\n",
    "</style>\n",
    "{table_html}\n",
    "<script>\n",
    "$(document).ready(function() {{\n",
    "    $('#taxonomy_summary_table').DataTable({{\n",
    "        dom: 'Bfrtip',\n",
    "        buttons: ['csv', 'excel'],\n",
    "        pageLength: 10,\n",
    "        searching: true,\n",
    "        ordering: true\n",
    "    }});\n",
    "}});\n",
    "</script>\n",
    "\"\"\"\n",
    "\n",
    "# Display the HTML in the notebook\n",
    "display(HTML(html_code))"
   ]
  },
  {
   "cell_type": "markdown",
   "id": "viz_summary",
   "metadata": {},
   "source": [
    "### Visualization: Annotation Counts by Rank"
   ]
  },
  {
   "cell_type": "code",
   "execution_count": null,
   "id": "viz_rank",
   "metadata": {},
   "outputs": [],
   "source": [
    "# Visualize annotation counts by rank\n",
    "if 'rank' in df_taxonomy_summary.columns and 'annotationCount' in df_taxonomy_summary.columns:\n",
    "    # Group by rank and sum counts\n",
    "    rank_summary = df_taxonomy_summary.groupby('rank')['annotationCount'].sum().reset_index()\n",
    "    rank_summary = rank_summary.sort_values('annotationCount', ascending=False)\n",
    "    \n",
    "    fig = px.bar(rank_summary, x='rank', y='annotationCount',\n",
    "                  title='Taxonomic Annotations by Rank',\n",
    "                  labels={'rank': 'Taxonomic Rank', 'annotationCount': 'Number of Annotations'},\n",
    "                  template='plotly_white')\n",
    "    fig.update_traces(marker_color='#1f77b4')\n",
    "    fig.update_layout(xaxis_tickangle=-45)\n",
    "    display(HTML(fig.to_html(include_plotlyjs='cdn', full_html=False)))\n",
    "else:\n",
    "    print(\"No rank or annotationCount data available for visualization\")"
   ]
  },
  {
   "cell_type": "code",
   "execution_count": null,
   "id": "viz_partof",
   "metadata": {},
   "outputs": [],
   "source": [
    "# Visualize annotation counts by source (partof)\n",
    "if 'partof' in df_taxonomy_summary.columns and 'annotationCount' in df_taxonomy_summary.columns:\n",
    "    # Group by partof and sum counts\n",
    "    partof_summary = df_taxonomy_summary.groupby('partof')['annotationCount'].sum().reset_index()\n",
    "    partof_summary = partof_summary.sort_values('annotationCount', ascending=False)\n",
    "    \n",
    "    fig = px.bar(partof_summary, x='partof', y='annotationCount',\n",
    "                  title='Taxonomic Annotations by Source',\n",
    "                  labels={'partof': 'Source', 'annotationCount': 'Number of Annotations'},\n",
    "                  template='plotly_white')\n",
    "    fig.update_traces(marker_color='#2ca02c')\n",
    "    fig.update_layout(xaxis_tickangle=-45)\n",
    "    display(HTML(fig.to_html(include_plotlyjs='cdn', full_html=False)))\n",
    "else:\n",
    "    print(\"No partof or annotationCount data available for visualization\")"
   ]
  },
  {
   "cell_type": "markdown",
   "id": "detailed_annotations",
   "metadata": {},
   "source": [
    "## Detailed Taxonomic Annotations\n",
    "\n",
    "Detailed view of all taxonomic annotations including RNA expression values (lsuRNA, ssuRNA) and taxonomic information."
   ]
  },
  {
   "cell_type": "code",
   "execution_count": null,
   "id": "fetch_annotations",
   "metadata": {},
   "outputs": [],
   "source": [
    "# Fetch detailed taxonomic annotations\n",
    "df_annotations: DataFrame = execute_to_df('sequences_annotations.sparql')\n",
    "\n",
    "table_html = df_annotations.to_html(index=False, classes='display', table_id='annotations_table')\n",
    "\n",
    "# HTML and JavaScript for DataTables with filtering and download buttons\n",
    "html_code = f\"\"\"\n",
    "<link rel='stylesheet' type='text/css' href='https://cdn.datatables.net/1.11.5/css/jquery.dataTables.min.css'>\n",
    "<link rel='stylesheet' type='text/css' href='https://cdn.datatables.net/buttons/2.2.2/css/buttons.dataTables.min.css'>\n",
    "<script src='https://code.jquery.com/jquery-3.5.1.js'></script>\n",
    "<script src='https://cdn.datatables.net/1.11.5/js/jquery.dataTables.min.js'></script>\n",
    "<script src='https://cdn.datatables.net/buttons/2.2.2/js/dataTables.buttons.min.js'></script>\n",
    "<script src='https://cdnjs.cloudflare.com/ajax/libs/jszip/3.1.3/jszip.min.js'></script>\n",
    "<script src='https://cdn.datatables.net/buttons/2.2.2/js/buttons.html5.min.js'></script>\n",
    "<style>\n",
    "  table.display {{ width: 100%; }}\n",
    "  div.dt-buttons {{ margin-bottom: 10px; }}\n",
    "</style>\n",
    "{table_html}\n",
    "<script>\n",
    "$(document).ready(function() {{\n",
    "    $('#annotations_table').DataTable({{\n",
    "        dom: 'Bfrtip',\n",
    "        buttons: ['csv', 'excel'],\n",
    "        pageLength: 10,\n",
    "        searching: true,\n",
    "        ordering: true\n",
    "    }});\n",
    "}});\n",
    "</script>\n",
    "\"\"\"\n",
    "\n",
    "# Display the HTML in the notebook\n",
    "display(HTML(html_code))"
   ]
  },
  {
   "cell_type": "markdown",
   "id": "viz_annotations",
   "metadata": {},
   "source": [
    "### Visualization: Distribution of Taxonomic Ranks in Detailed Annotations"
   ]
  },
  {
   "cell_type": "code",
   "execution_count": null,
   "id": "viz_annotations_rank",
   "metadata": {},
   "outputs": [],
   "source": [
    "# Visualize distribution of taxonomic ranks\n",
    "if 'taxonRank' in df_annotations.columns:\n",
    "    # Count by taxonRank\n",
    "    rank_counts = df_annotations['taxonRank'].value_counts().reset_index()\n",
    "    rank_counts.columns = ['taxonRank', 'count']\n",
    "    \n",
    "    fig = px.pie(rank_counts, values='count', names='taxonRank',\n",
    "                 title='Distribution of Taxonomic Ranks',\n",
    "                 template='plotly_white')\n",
    "    display(HTML(fig.to_html(include_plotlyjs='cdn', full_html=False)))\n",
    "else:\n",
    "    print(\"No taxonRank data available for visualization\")"
   ]
  },
  {
   "cell_type": "code",
   "execution_count": null,
   "id": "viz_rna_expression",
   "metadata": {},
   "outputs": [],
   "source": [
    "# Visualize RNA expression values if available\n",
    "if 'lsuRNA' in df_annotations.columns and 'ssuRNA' in df_annotations.columns:\n",
    "    # Filter out rows with both RNA values\n",
    "    df_rna = df_annotations.dropna(subset=['lsuRNA', 'ssuRNA'])\n",
    "    \n",
    "    if len(df_rna) > 0:\n",
    "        # Convert to numeric if possible\n",
    "        df_rna['lsuRNA'] = pd.to_numeric(df_rna['lsuRNA'], errors='coerce')\n",
    "        df_rna['ssuRNA'] = pd.to_numeric(df_rna['ssuRNA'], errors='coerce')\n",
    "        df_rna = df_rna.dropna(subset=['lsuRNA', 'ssuRNA'])\n",
    "        \n",
    "        if len(df_rna) > 0:\n",
    "            fig = px.scatter(df_rna, x='lsuRNA', y='ssuRNA',\n",
    "                           hover_data=['scientificName', 'taxonRank'],\n",
    "                           title='LSU RNA vs SSU RNA Expression',\n",
    "                           labels={'lsuRNA': 'LSU RNA', 'ssuRNA': 'SSU RNA'},\n",
    "                           template='plotly_white')\n",
    "            fig.update_traces(marker=dict(size=8, opacity=0.6))\n",
    "            display(HTML(fig.to_html(include_plotlyjs='cdn', full_html=False)))\n",
    "        else:\n",
    "            print(\"No numeric RNA expression data available for visualization\")\n",
    "    else:\n",
    "        print(\"No RNA expression data available for visualization\")\n",
    "else:\n",
    "    print(\"RNA expression columns not found in data\")"
   ]
  }
 ],
 "metadata": {
  "kernelspec": {
   "display_name": "Python 3",
   "language": "python",
   "name": "python3"
  },
  "language_info": {
   "codemirror_mode": {
    "name": "ipython",
    "version": 3
   },
   "file_extension": ".py",
   "mimetype": "text/x-python",
   "name": "python",
   "nbconvert_exporter": "python",
   "pygments_lexer": "ipython3",
   "version": "3.9.0"
  }
 },
 "nbformat": 4,
 "nbformat_minor": 5
}
