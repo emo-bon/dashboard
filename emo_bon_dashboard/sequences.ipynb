{
 "cells": [
  {
   "cell_type": "markdown",
   "id": "a292c944",
   "metadata": {},
   "source": [
    "# Sequences\n",
    "\n",
    "This section provides an overview of the DNA sequences collected by various observatories within the EMO-BON network. It includes details about the types of sequences, their sources, and associated metadata."
   ]
  },
  {
   "cell_type": "code",
   "execution_count": null,
   "id": "imports",
   "metadata": {},
   "outputs": [],
   "source": [
    "from conneg_functions import execute_to_df, generate_sparql\n",
    "import plotly.express as px\n",
    "from pandas import DataFrame\n",
    "from IPython.display import display, HTML"
   ]
  },
  {
   "cell_type": "markdown",
   "id": "basic_info",
   "metadata": {},
   "source": [
    "## Basic Sequence Information\n",
    "\n",
    "The following table displays basic information about sequences in the EMO-BON knowledge graph."
   ]
  },
  {
   "cell_type": "code",
   "execution_count": null,
   "id": "fetch_basic",
   "metadata": {},
   "outputs": [],
   "source": [
    "# Fetch basic sequence data and display as interactive table\n",
    "df_sequences_basic: DataFrame = execute_to_df('sequences_basic.sparql')\n",
    "\n",
    "table_html = df_sequences_basic.to_html(index=False, classes='display', table_id='sequences_table')\n",
    "\n",
    "# HTML and JavaScript for DataTables with filtering and download buttons\n",
    "html_code = f\"\"\"\n",
    "<link rel='stylesheet' type='text/css' href='https://cdn.datatables.net/1.11.5/css/jquery.dataTables.min.css'>\n",
    "<link rel='stylesheet' type='text/css' href='https://cdn.datatables.net/buttons/2.2.2/css/buttons.dataTables.min.css'>\n",
    "<script src='https://code.jquery.com/jquery-3.5.1.js'></script>\n",
    "<script src='https://cdn.datatables.net/1.11.5/js/jquery.dataTables.min.js'></script>\n",
    "<script src='https://cdn.datatables.net/buttons/2.2.2/js/dataTables.buttons.min.js'></script>\n",
    "<script src='https://cdnjs.cloudflare.com/ajax/libs/jszip/3.1.3/jszip.min.js'></script>\n",
    "<script src='https://cdn.datatables.net/buttons/2.2.2/js/buttons.html5.min.js'></script>\n",
    "<style>\n",
    "  table.display {{ width: 100%; }}\n",
    "  div.dt-buttons {{ margin-bottom: 10px; }}\n",
    "</style>\n",
    "{table_html}\n",
    "<script>\n",
    "$(document).ready(function() {{\n",
    "    $('#sequences_table').DataTable({{\n",
    "        dom: 'Bfrtip',\n",
    "        buttons: ['csv', 'excel'],\n",
    "        pageLength: 10,\n",
    "        searching: true,\n",
    "        ordering: true\n",
    "    }});\n",
    "}});\n",
    "</script>\n",
    "\"\"\"\n",
    "\n",
    "# Display the HTML in the notebook\n",
    "display(HTML(html_code))"
   ]
  },
  {
   "cell_type": "markdown",
   "id": "species_info",
   "metadata": {},
   "source": [
    "## Species Overview\n",
    "\n",
    "The following table displays taxonomic information about species identified from sequences."
   ]
  },
  {
   "cell_type": "code",
   "execution_count": null,
   "id": "fetch_species",
   "metadata": {},
   "outputs": [],
   "source": [
    "# Fetch species/taxonomy data from sequences\n",
    "df_species: DataFrame = execute_to_df('sequences_species.sparql')\n",
    "\n",
    "table_html = df_species.to_html(index=False, classes='display', table_id='species_table')\n",
    "\n",
    "# HTML and JavaScript for DataTables with filtering and download buttons\n",
    "html_code = f\"\"\"\n",
    "<link rel='stylesheet' type='text/css' href='https://cdn.datatables.net/1.11.5/css/jquery.dataTables.min.css'>\n",
    "<link rel='stylesheet' type='text/css' href='https://cdn.datatables.net/buttons/2.2.2/css/buttons.dataTables.min.css'>\n",
    "<script src='https://code.jquery.com/jquery-3.5.1.js'></script>\n",
    "<script src='https://cdn.datatables.net/1.11.5/js/jquery.dataTables.min.js'></script>\n",
    "<script src='https://cdn.datatables.net/buttons/2.2.2/js/dataTables.buttons.min.js'></script>\n",
    "<script src='https://cdnjs.cloudflare.com/ajax/libs/jszip/3.1.3/jszip.min.js'></script>\n",
    "<script src='https://cdn.datatables.net/buttons/2.2.2/js/buttons.html5.min.js'></script>\n",
    "<style>\n",
    "  table.display {{ width: 100%; }}\n",
    "  div.dt-buttons {{ margin-bottom: 10px; }}\n",
    "</style>\n",
    "{table_html}\n",
    "<script>\n",
    "$(document).ready(function() {{\n",
    "    $('#species_table').DataTable({{\n",
    "        dom: 'Bfrtip',\n",
    "        buttons: ['csv', 'excel'],\n",
    "        pageLength: 10,\n",
    "        searching: true,\n",
    "        ordering: true\n",
    "    }});\n",
    "}});\n",
    "</script>\n",
    "\"\"\"\n",
    "\n",
    "# Display the HTML in the notebook\n",
    "display(HTML(html_code))"
   ]
  },
  {
   "cell_type": "markdown",
   "id": "viz_section",
   "metadata": {},
   "source": [
    "## Species Distribution Visualization\n",
    "\n",
    "Visualize the distribution of species across different taxonomic ranks."
   ]
  },
  {
   "cell_type": "code",
   "execution_count": null,
   "id": "viz_taxonomy",
   "metadata": {},
   "outputs": [],
   "source": [
    "# Count species by kingdom\n",
    "if 'kingdom' in df_species.columns and not df_species['kingdom'].isna().all():\n",
    "    kingdom_counts = df_species.groupby('kingdom').size().reset_index(name='count')\n",
    "    kingdom_counts = kingdom_counts.sort_values('count', ascending=False)\n",
    "    \n",
    "    fig = px.bar(kingdom_counts, x='kingdom', y='count', \n",
    "                  title='Number of Sequences by Kingdom',\n",
    "                  labels={'kingdom': 'Kingdom', 'count': 'Number of Sequences'},\n",
    "                  template='plotly_white')\n",
    "    fig.update_traces(marker_color='#2ca02c')\n",
    "    display(HTML(fig.to_html(include_plotlyjs='cdn', full_html=False)))\n",
    "else:\n",
    "    print(\"No kingdom data available for visualization\")"
   ]
  },
  {
   "cell_type": "code",
   "execution_count": null,
   "id": "viz_phylum",
   "metadata": {},
   "outputs": [],
   "source": [
    "# Count species by phylum (top 10)\n",
    "if 'phylum' in df_species.columns and not df_species['phylum'].isna().all():\n",
    "    phylum_counts = df_species.groupby('phylum').size().reset_index(name='count')\n",
    "    phylum_counts = phylum_counts.sort_values('count', ascending=False).head(10)\n",
    "    \n",
    "    fig = px.bar(phylum_counts, x='phylum', y='count', \n",
    "                  title='Top 10 Phyla by Number of Sequences',\n",
    "                  labels={'phylum': 'Phylum', 'count': 'Number of Sequences'},\n",
    "                  template='plotly_white')\n",
    "    fig.update_traces(marker_color='#ff7f0e')\n",
    "    fig.update_layout(xaxis_tickangle=-45)\n",
    "    display(HTML(fig.to_html(include_plotlyjs='cdn', full_html=False)))\n",
    "else:\n",
    "    print(\"No phylum data available for visualization\")"
   ]
  },
  {
   "cell_type": "code",
   "execution_count": null,
   "id": "viz_family",
   "metadata": {},
   "outputs": [],
   "source": [
    "# Count species by family (top 15)\n",
    "if 'family' in df_species.columns and not df_species['family'].isna().all():\n",
    "    family_counts = df_species.groupby('family').size().reset_index(name='count')\n",
    "    family_counts = family_counts.sort_values('count', ascending=False).head(15)\n",
    "    \n",
    "    fig = px.bar(family_counts, x='family', y='count', \n",
    "                  title='Top 15 Families by Number of Sequences',\n",
    "                  labels={'family': 'Family', 'count': 'Number of Sequences'},\n",
    "                  template='plotly_white')\n",
    "    fig.update_traces(marker_color='#d62728')\n",
    "    fig.update_layout(xaxis_tickangle=-45)\n",
    "    display(HTML(fig.to_html(include_plotlyjs='cdn', full_html=False)))\n",
    "else:\n",
    "    print(\"No family data available for visualization\")"
   ]
  }
 ],
 "metadata": {
  "kernelspec": {
   "display_name": "Python 3",
   "language": "python",
   "name": "python3"
  },
  "language_info": {
   "codemirror_mode": {
    "name": "ipython",
    "version": 3
   },
   "file_extension": ".py",
   "mimetype": "text/x-python",
   "name": "python",
   "nbconvert_exporter": "python",
   "pygments_lexer": "ipython3",
   "version": "3.9.0"
  }
 },
 "nbformat": 4,
 "nbformat_minor": 5
}
