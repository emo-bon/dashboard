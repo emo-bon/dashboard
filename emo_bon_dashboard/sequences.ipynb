{
 "cells": [
  {
   "cell_type": "markdown",
   "id": "a292c944",
   "metadata": {},
   "source": [
    "# Sequences\n",
    "\n",
    "This section provides an overview of the DNA sequences collected by various observatories within the EMO-BON network. It includes details about the types of sequences, their sources, and associated metadata."
   ]
  }
 ],
 "metadata": {
  "language_info": {
   "name": "python"
  }
 },
 "nbformat": 4,
 "nbformat_minor": 5
}
